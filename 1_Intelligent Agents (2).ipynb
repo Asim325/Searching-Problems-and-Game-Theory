{
 "cells": [
  {
   "cell_type": "markdown",
   "id": "7e39df6b-8181-4f72-9957-07627ade3c39",
   "metadata": {},
   "source": [
    "# Intelligent Agents\n",
    "![SNN](images/agent.png)\n",
    "\n",
    "Chapter 2 - Intelligent Agents from the book Artificial Intelligence: A Modern Approach 4th edition"
   ]
  },
  {
   "cell_type": "markdown",
   "id": "a8fd2315-4ce6-4253-bf16-510ecd902333",
   "metadata": {},
   "source": [
    "In this notebook, we will be discussing **the structure of agents** through different examples. The job of AI is to design an **agent program** that implements the agent function: the mapping from percepts to actions. \n",
    "<h3 align=\"center\">agent = architecture + program</h3>"
   ]
  },
  {
   "cell_type": "markdown",
   "id": "79563487-860f-4b83-8f0a-80e528e709fc",
   "metadata": {},
   "source": [
    "## CONTENTS\n",
    "\n",
    "* Agent\n",
    "* Simple Reflex Agent Program\n",
    "* Model-Based Reflex Agent Program\n",
    "* Goal-Based Agent Program\n",
    "* Utility-Based Agent Program\n",
    "* Learning Agent\n",
    "\n",
    "## AGENT PROGRAMS\n",
    "\n",
    "An agent program takes the current percept as input from the sensors and returns an action to the actuators. There is a difference between an agent program and an agent function: an agent program takes the current percept as input whereas an agent function takes the entire percept history.\n",
    "\n",
    "The agent program takes just the current percept as input because nothing more is available from the environment; if the agent's actions depend on the entire percept sequence, the agent will have to remember the percept.\n",
    "\n",
    "We'll discuss the following agent programs here with the help of the different example:\n",
    "* Simple Reflex Agent Program\n",
    "* Model-Based Reflex Agent Program\n",
    "* Goal-Based Agent Program\n",
    "* Utility-Based Agent Program"
   ]
  },
  {
   "cell_type": "markdown",
   "id": "31033387-27ed-44e1-958d-86b606ce083b",
   "metadata": {},
   "source": [
    "## SIMPLE REFLEX AGENT PROGRAM\n",
    "\n",
    "A simple reflex agent program selects actions on the basis of the *current* percept, ignoring the rest of the percept history. These agents work on a **condition-action rule** (also called **situation-action rule**, **production** or **if-then rule**), which tells the agent the action to trigger when a particular situation is encountered.  \n",
    "\n",
    "The schematic diagram shown in **Figure 2.9** of the book will make this more clear:\n",
    "\n",
    "\"![simple reflex agent](images/sra.png)\""
   ]
  },
  {
   "cell_type": "markdown",
   "id": "97c5cb63-46cc-4b67-835d-d475ea9c6c52",
   "metadata": {},
   "source": [
    "### Example 01\n",
    "#### Simple Spam Email Filter Code\n",
    "Design a simple reflex agent to classify user input as \"spam\" or \"not spam\" based on the presence of specific spam-related keywords. Implement the agent and explain how it determines the classification."
   ]
  },
  {
   "cell_type": "code",
   "execution_count": 4,
   "id": "1ad44d86-dc89-4545-81df-4d757acf9c4e",
   "metadata": {},
   "outputs": [
    {
     "name": "stdin",
     "output_type": "stream",
     "text": [
      "Enter your text:  win lottery\n"
     ]
    },
    {
     "name": "stdout",
     "output_type": "stream",
     "text": [
      "Classification: Spam\n"
     ]
    }
   ],
   "source": [
    "# Define spam-related keywords\n",
    "spam_keywords = ['win', 'free', 'prize', 'click', 'offer']\n",
    "\n",
    "def classify_text(text):\n",
    "    \"\"\"\n",
    "    Classify the input text as 'Spam' or 'Not Spam' based on keywords.\n",
    "    \"\"\"\n",
    "    text = text.lower()\n",
    "    \n",
    "    # Check for spam keywords\n",
    "    if any(keyword in text for keyword in spam_keywords):\n",
    "        return 'Spam'\n",
    "    \n",
    "    return 'Not Spam'\n",
    "\n",
    "# Input data\n",
    "text_input = input(\"Enter your text: \")\n",
    "classification = classify_text(text_input)\n",
    "print(f\"Classification: {classification}\")\n"
   ]
  },
  {
   "cell_type": "markdown",
   "id": "dd6f6807-122e-4996-88c5-e100e3813134",
   "metadata": {},
   "source": [
    "### Task 1\n",
    "### Sentiment Classifier\n",
    "Create a simple reflex agent that classifies input data based on predefined rules. For this example, we'll build a basic agent that classifies text input as either \"positive\" or \"negative\" based on the presence of certain keywords"
   ]
  },
  {
   "cell_type": "code",
   "execution_count": 7,
   "id": "8099e47c-c211-4599-8bad-a20e2005e619",
   "metadata": {},
   "outputs": [
    {
     "name": "stdin",
     "output_type": "stream",
     "text": [
      "Enter your text:  good mood\n"
     ]
    },
    {
     "name": "stdout",
     "output_type": "stream",
     "text": [
      "Classification: Positive\n"
     ]
    }
   ],
   "source": [
    "# Simple Reflex Agent for Text Classification\n",
    "\n",
    "# Define keywords for classification\n",
    "positive_keywords = ['happy', 'joy', 'great', 'excellent', 'good']\n",
    "negative_keywords = ['sad', 'angry', 'poor', 'terrible', 'bad']\n",
    "\n",
    "def classify_text(text):\n",
    "    \"\"\"\n",
    "    Classify the input text as 'positive' or 'negative' based on keywords.\n",
    "    \"\"\"\n",
    "    text = text.lower()\n",
    "    \n",
    "    # Check for positive keywords\n",
    "    if any(keyword in text for keyword in positive_keywords):\n",
    "        return 'Positive'\n",
    "    \n",
    "    # Check for negative keywords\n",
    "    if any(keyword in text for keyword in negative_keywords):\n",
    "        return 'Negative'\n",
    "    \n",
    "    return 'Neutral'  # If no keywords are found\n",
    "\n",
    "# Input data\n",
    "text_input = input(\"Enter your text: \")\n",
    "classification = classify_text(text_input)\n",
    "print(f\"Classification: {classification}\")"
   ]
  },
  {
   "cell_type": "code",
   "execution_count": null,
   "id": "baa6a934-bce0-4ce8-a0f4-7a0f3d2d6aa2",
   "metadata": {},
   "outputs": [],
   "source": []
  },
  {
   "cell_type": "markdown",
   "id": "0896f5ab-e055-4b90-b2d2-9d17f431998e",
   "metadata": {},
   "source": [
    "## MODEL-BASED REFLEX AGENT PROGRAM\n",
    "\n",
    "A model-based reflex agent maintains some sort of **internal state** that depends on the percept history and thereby reflects at least some of the unobserved aspects of the current state. In addition to this, it also requires a **model** of the world, that is, knowledge about \"how the world works\".\n",
    "\n",
    "The schematic diagram shown in **Figure 2.11** of the book will make this more clear:\n",
    "<img src=\"images/mra.png\">"
   ]
  },
  {
   "cell_type": "markdown",
   "id": "ab1fd43b-2e48-4a21-861b-2029fed05a3f",
   "metadata": {},
   "source": [
    "## Model-Based Drug Information Agent\n",
    "This agent is a Model-Based Drug Information Agent designed to provide relevant drug information to users based on their queries. It uses Natural Language Processing (NLP) to understand and extract keywords from user inputs, which are then used to search a preloaded drug dataset. The dataset contains information on drug names, associated conditions, user reviews, and ratings.\n",
    "\n",
    "When a user inputs a query (e.g., \"Tell me about aspirin\"), the agent processes the query using the nltk library to tokenize and filter the text, extracting meaningful keywords. It then searches its internal dataset (the model) for matches with the extracted keywords. If a match is found, the agent retrieves and displays detailed information about the drug, including its associated condition, user reviews, and ratings.\n",
    "\n",
    "This behavior exemplifies a model-based agent because it maintains an internal model (the drug dataset) that it uses to generate responses, allowing it to operate in a more informed manner than simple reflex agents. The agent is interactive, adaptable to new queries, and capable of handling variations in user input to provide accurate drug-related information."
   ]
  },
  {
   "cell_type": "code",
   "execution_count": 6,
   "id": "41a9e5a2-7dc0-460d-a69d-3a36d4ab6e19",
   "metadata": {},
   "outputs": [
    {
     "name": "stderr",
     "output_type": "stream",
     "text": [
      "[nltk_data] Downloading package punkt to\n",
      "[nltk_data]     C:\\Users\\ASIM\\AppData\\Roaming\\nltk_data...\n",
      "[nltk_data]   Package punkt is already up-to-date!\n",
      "[nltk_data] Downloading package stopwords to\n",
      "[nltk_data]     C:\\Users\\ASIM\\AppData\\Roaming\\nltk_data...\n",
      "[nltk_data]   Package stopwords is already up-to-date!\n"
     ]
    },
    {
     "name": "stdout",
     "output_type": "stream",
     "text": [
      "Welcome to the Drug Information Agent. Type your query below:\n"
     ]
    },
    {
     "name": "stdin",
     "output_type": "stream",
     "text": [
      "Your query:  usage of valsartan\n"
     ]
    },
    {
     "name": "stdout",
     "output_type": "stream",
     "text": [
      "Drug: Valsartan\n",
      "Condition: Left Ventricular Dysfunction\n",
      "Review: \"It has no side effect, I take it in combination of Bystolic 5 Mg and Fish Oil\"\n",
      "Rating: 9/5\n"
     ]
    }
   ],
   "source": [
    "import nltk\n",
    "import pandas as pd\n",
    "from nltk.tokenize import word_tokenize\n",
    "from nltk.corpus import stopwords\n",
    "\n",
    "# Download NLTK resources (run this once)\n",
    "nltk.download('punkt')\n",
    "nltk.download('stopwords')\n",
    "\n",
    "# Load the drug information dataset (replace with the path to your CSV file)\n",
    "drug_data = pd.read_csv('drug1.csv')\n",
    "\n",
    "# Load stopwords for filtering\n",
    "stop_words = set(stopwords.words('english'))\n",
    "\n",
    "# Function to extract drug-related keywords from user query using NLTK\n",
    "def extract_drug_info(query):\n",
    "    # Tokenize the query into words\n",
    "    words = word_tokenize(query.lower())\n",
    "    # Remove stopwords and punctuation\n",
    "    keywords = [word for word in words if word.isalnum() and word not in stop_words]\n",
    "    return keywords\n",
    "\n",
    "# Function to find drug information based on extracted keywords\n",
    "def find_drug_recommendation(keywords):\n",
    "    for keyword in keywords:\n",
    "        # Check if the keyword matches any drug name in the dataset\n",
    "        if keyword in drug_data['drugName'].str.lower().values:\n",
    "            drug_info = drug_data[drug_data['drugName'].str.lower() == keyword]\n",
    "            # Generate a response using the drug information\n",
    "            response = f\"Drug: {drug_info['drugName'].values[0]}\\n\" \\\n",
    "                       f\"Condition: {drug_info['condition'].values[0]}\\n\" \\\n",
    "                       f\"Review: {drug_info['review'].values[0]}\\n\" \\\n",
    "                       f\"Rating: {drug_info['rating'].values[0]}/5\"\n",
    "            return response\n",
    "    return \"Sorry, I couldn't find any information related to that drug.\"\n",
    "\n",
    "# Main function to handle user queries\n",
    "def intelligent_agent():\n",
    "    print(\"Welcome to the Drug Information Agent. Type your query below:\")\n",
    "    query = input(\"Your query: \")\n",
    "    keywords = extract_drug_info(query)\n",
    "    response = find_drug_recommendation(keywords)\n",
    "    print(response)\n",
    "\n",
    "# Run the agent\n",
    "intelligent_agent()\n"
   ]
  },
  {
   "cell_type": "markdown",
   "id": "8b4c6fcf-c53f-4185-a0eb-ce2524ac2b01",
   "metadata": {},
   "source": [
    "### Task 2\n",
    "Create a model-based agent to categorize numeric inputs into \"Low\", \"Medium\", or \"High\" based on predefined thresholds. Explain how the internal model is used to make the classification"
   ]
  },
  {
   "cell_type": "markdown",
   "id": "4b9ca296-b022-46ff-a029-412b92810144",
   "metadata": {},
   "source": [
    "Psuedocode\n",
    "1. Define thresholds for classification:\n",
    "   low_threshold = 10\n",
    "   high_threshold = 50\n",
    "\n",
    "2. Define a class NumericClassifier with methods:\n",
    "   a. __init__(self, low_threshold, high_threshold): Initialize the thresholds.\n",
    "   \n",
    "   b. classify(self, value): \n",
    "\n",
    "      i. If the value is less than low_threshold, classify as 'Low'.\n",
    "\n",
    "      ii. If the value is greater than high_threshold, classify as 'High'.\n",
    "\n",
    "      iii. Otherwise, classify as 'Medium'.\n",
    "      iv. Return the classification result.\n",
    "\n",
    "3. Initialize an instance of NumericClassifier with defined thresholds.\n",
    "\n",
    "4. Input numeric data from the user.\n",
    "\n",
    "5. Call classify method with the input value and get the classification.\n",
    "\n",
    "6. Print the classification result.\n"
   ]
  },
  {
   "cell_type": "code",
   "execution_count": 5,
   "id": "5ff0a4b4-e4a1-4e5c-b2b1-286fd0649069",
   "metadata": {},
   "outputs": [
    {
     "name": "stdin",
     "output_type": "stream",
     "text": [
      "Enter a numeric value:  7878\n"
     ]
    },
    {
     "name": "stdout",
     "output_type": "stream",
     "text": [
      "Classification: High\n"
     ]
    }
   ],
   "source": [
    "class NumericClassifier:\n",
    "    def __init__(self, low_threshold, high_threshold):\n",
    "        self.low_threshold = low_threshold\n",
    "        self.high_threshold = high_threshold\n",
    "\n",
    "    def classify(self, value):\n",
    "        \"\"\"\n",
    "        Classify the input numeric value based on thresholds.\n",
    "        \"\"\"\n",
    "        if value < self.low_threshold:\n",
    "            return 'Low'\n",
    "        elif value > self.high_threshold:\n",
    "            return 'High'\n",
    "        else:\n",
    "            return 'Medium'\n",
    "\n",
    "# Initialize the model with thresholds\n",
    "low_threshold = 10\n",
    "high_threshold = 50\n",
    "classifier = NumericClassifier(low_threshold, high_threshold)\n",
    "\n",
    "# Input data\n",
    "try:\n",
    "    numeric_input = float(input(\"Enter a numeric value: \"))\n",
    "    classification = classifier.classify(numeric_input)\n",
    "    print(f\"Classification: {classification}\")\n",
    "except ValueError:\n",
    "    print(\"Invalid input. Please enter a numeric value.\")\n"
   ]
  },
  {
   "cell_type": "code",
   "execution_count": null,
   "id": "af7eca12-b02f-4231-9784-5c0ce4702639",
   "metadata": {},
   "outputs": [],
   "source": []
  }
 ],
 "metadata": {
  "kernelspec": {
   "display_name": "Python 3 (ipykernel)",
   "language": "python",
   "name": "python3"
  },
  "language_info": {
   "codemirror_mode": {
    "name": "ipython",
    "version": 3
   },
   "file_extension": ".py",
   "mimetype": "text/x-python",
   "name": "python",
   "nbconvert_exporter": "python",
   "pygments_lexer": "ipython3",
   "version": "3.11.7"
  }
 },
 "nbformat": 4,
 "nbformat_minor": 5
}
