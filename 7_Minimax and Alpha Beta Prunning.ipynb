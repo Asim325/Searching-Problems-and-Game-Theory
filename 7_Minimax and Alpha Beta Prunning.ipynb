{
 "cells": [
  {
   "cell_type": "markdown",
   "id": "ad5bd007-5866-495d-92d2-b65eb73f97ce",
   "metadata": {},
   "source": [
    "# Apply Minimax and Alpha Beta Prunning"
   ]
  },
  {
   "cell_type": "code",
   "execution_count": 6,
   "id": "2bd5256a-aa2a-4c64-b8bd-d3c21cca45be",
   "metadata": {},
   "outputs": [
    {
     "name": "stdout",
     "output_type": "stream",
     "text": [
      "Welcome to Tic-Tac-Toe!\n",
      "|   |   |   |\n",
      "|   |   |   |\n",
      "|   |   |   |\n"
     ]
    },
    {
     "name": "stdin",
     "output_type": "stream",
     "text": [
      "Enter your move (1-9):  5\n"
     ]
    },
    {
     "name": "stdout",
     "output_type": "stream",
     "text": [
      "|   |   |   |\n",
      "|   | X |   |\n",
      "|   |   |   |\n",
      "Computer's turn...\n",
      "| O |   |   |\n",
      "|   | X |   |\n",
      "|   |   |   |\n"
     ]
    },
    {
     "name": "stdin",
     "output_type": "stream",
     "text": [
      "Enter your move (1-9):  3\n"
     ]
    },
    {
     "name": "stdout",
     "output_type": "stream",
     "text": [
      "| O |   | X |\n",
      "|   | X |   |\n",
      "|   |   |   |\n",
      "Computer's turn...\n",
      "| O |   | X |\n",
      "|   | X |   |\n",
      "| O |   |   |\n"
     ]
    },
    {
     "name": "stdin",
     "output_type": "stream",
     "text": [
      "Enter your move (1-9):  4\n"
     ]
    },
    {
     "name": "stdout",
     "output_type": "stream",
     "text": [
      "| O |   | X |\n",
      "| X | X |   |\n",
      "| O |   |   |\n",
      "Computer's turn...\n",
      "| O |   | X |\n",
      "| X | X | O |\n",
      "| O |   |   |\n"
     ]
    },
    {
     "name": "stdin",
     "output_type": "stream",
     "text": [
      "Enter your move (1-9):  2\n"
     ]
    },
    {
     "name": "stdout",
     "output_type": "stream",
     "text": [
      "| O | X | X |\n",
      "| X | X | O |\n",
      "| O |   |   |\n",
      "Computer's turn...\n",
      "| O | X | X |\n",
      "| X | X | O |\n",
      "| O | O |   |\n"
     ]
    },
    {
     "name": "stdin",
     "output_type": "stream",
     "text": [
      "Enter your move (1-9):  9\n"
     ]
    },
    {
     "name": "stdout",
     "output_type": "stream",
     "text": [
      "| O | X | X |\n",
      "| X | X | O |\n",
      "| O | O | X |\n",
      "It's a draw!\n"
     ]
    }
   ],
   "source": [
    "### import math\n",
    "\n",
    "# Initialize the Tic-Tac-Toe board\n",
    "board = [\" \" for _ in range(9)]\n",
    "\n",
    "# Function to print the Tic-Tac-Toe board\n",
    "def print_board():\n",
    "    for row in [board[i*3:(i+1)*3] for i in range(3)]:\n",
    "        print(\"| \" + \" | \".join(row) + \" |\")\n",
    "\n",
    "# Check if there's a winner or if it's a draw\n",
    "def check_winner(board):\n",
    "    win_combinations = [\n",
    "        [0, 1, 2], [3, 4, 5], [6, 7, 8], # rows\n",
    "        [0, 3, 6], [1, 4, 7], [2, 5, 8], # columns\n",
    "        [0, 4, 8], [2, 4, 6]             # diagonals\n",
    "    ]\n",
    "    for combo in win_combinations:\n",
    "        if board[combo[0]] == board[combo[1]] == board[combo[2]] != \" \":\n",
    "            return board[combo[0]]\n",
    "    return \" \" if \" \" in board else \"Draw\"\n",
    "\n",
    "# Minimax algorithm with alpha-beta pruning\n",
    "def minimax(board, depth, is_maximizing, alpha, beta):\n",
    "    result = check_winner(board)\n",
    "    if result == \"X\":  # Player wins\n",
    "        return -1\n",
    "    elif result == \"O\":  # Computer wins\n",
    "        return 1\n",
    "    elif result == \"Draw\":\n",
    "        return 0\n",
    "\n",
    "    if is_maximizing:\n",
    "        max_eval = -math.inf\n",
    "        for i in range(9):\n",
    "            if board[i] == \" \":\n",
    "                board[i] = \"O\"\n",
    "                eval = minimax(board, depth + 1, False, alpha, beta)\n",
    "                board[i] = \" \"\n",
    "                max_eval = max(max_eval, eval)\n",
    "                alpha = max(alpha, eval)\n",
    "                if beta <= alpha:\n",
    "                    break\n",
    "        return max_eval\n",
    "    else:\n",
    "        min_eval = math.inf\n",
    "        for i in range(9):\n",
    "            if board[i] == \" \":\n",
    "                board[i] = \"X\"\n",
    "                eval = minimax(board, depth + 1, True, alpha, beta)\n",
    "                board[i] = \" \"\n",
    "                min_eval = min(min_eval, eval)\n",
    "                beta = min(beta, eval)\n",
    "                if beta <= alpha:\n",
    "                    break\n",
    "        return min_eval\n",
    "\n",
    "# Find the best move for the computer\n",
    "def best_move():\n",
    "    best_value = -math.inf\n",
    "    move = -1\n",
    "    for i in range(9):\n",
    "        if board[i] == \" \":\n",
    "            board[i] = \"O\"\n",
    "            move_value = minimax(board, 0, False, -math.inf, math.inf)\n",
    "            board[i] = \" \"\n",
    "            if move_value > best_value:\n",
    "                best_value = move_value\n",
    "                move = i\n",
    "    return move\n",
    "\n",
    "# Main game loop\n",
    "def play_game():\n",
    "    print(\"Welcome to Tic-Tac-Toe!\")\n",
    "    print_board()\n",
    "\n",
    "    while True:\n",
    "        # Player's turn\n",
    "        player_move = int(input(\"Enter your move (1-9): \")) - 1\n",
    "        if board[player_move] != \" \":\n",
    "            print(\"Invalid move! Try again.\")\n",
    "            continue\n",
    "        board[player_move] = \"X\"\n",
    "\n",
    "        print_board()\n",
    "        if check_winner(board) != \" \":\n",
    "            break\n",
    "\n",
    "        # Computer's turn\n",
    "        print(\"Computer's turn...\")\n",
    "        computer_move = best_move()\n",
    "        board[computer_move] = \"O\"\n",
    "        print_board()\n",
    "        if check_winner(board) != \" \":\n",
    "            break\n",
    "\n",
    "    result = check_winner(board)\n",
    "    if result == \"X\":\n",
    "        print(\"Congratulations! You win!\")\n",
    "    elif result == \"O\":\n",
    "        print(\"Computer wins!\")\n",
    "    else:\n",
    "        print(\"It's a draw!\")\n",
    "\n",
    "# Start the game\n",
    "play_game()\n"
   ]
  },
  {
   "cell_type": "code",
   "execution_count": null,
   "id": "936346b4-c685-4c57-8ff4-0f270b138a06",
   "metadata": {},
   "outputs": [],
   "source": []
  },
  {
   "cell_type": "code",
   "execution_count": 7,
   "id": "195bfd9c-276e-4613-88a7-8d0aac823c85",
   "metadata": {},
   "outputs": [
    {
     "name": "stdout",
     "output_type": "stream",
     "text": [
      "Welcome to Tic-Tac-Toe!\n",
      "|   |   |   |\n",
      "|   |   |   |\n",
      "|   |   |   |\n"
     ]
    },
    {
     "name": "stdin",
     "output_type": "stream",
     "text": [
      "Enter your move (1-9):  1\n"
     ]
    },
    {
     "name": "stdout",
     "output_type": "stream",
     "text": [
      "| X |   |   |\n",
      "|   |   |   |\n",
      "|   |   |   |\n",
      "Computer's turn...\n",
      "| X |   |   |\n",
      "|   | O |   |\n",
      "|   |   |   |\n"
     ]
    },
    {
     "name": "stdin",
     "output_type": "stream",
     "text": [
      "Enter your move (1-9):  9\n"
     ]
    },
    {
     "name": "stdout",
     "output_type": "stream",
     "text": [
      "| X |   |   |\n",
      "|   | O |   |\n",
      "|   |   | X |\n",
      "Computer's turn...\n",
      "| X | O |   |\n",
      "|   | O |   |\n",
      "|   |   | X |\n"
     ]
    },
    {
     "name": "stdin",
     "output_type": "stream",
     "text": [
      "Enter your move (1-9):  8\n"
     ]
    },
    {
     "name": "stdout",
     "output_type": "stream",
     "text": [
      "| X | O |   |\n",
      "|   | O |   |\n",
      "|   | X | X |\n",
      "Computer's turn...\n",
      "| X | O |   |\n",
      "|   | O |   |\n",
      "| O | X | X |\n"
     ]
    },
    {
     "name": "stdin",
     "output_type": "stream",
     "text": [
      "Enter your move (1-9):  4\n"
     ]
    },
    {
     "name": "stdout",
     "output_type": "stream",
     "text": [
      "| X | O |   |\n",
      "| X | O |   |\n",
      "| O | X | X |\n",
      "Computer's turn...\n",
      "| X | O | O |\n",
      "| X | O |   |\n",
      "| O | X | X |\n",
      "Computer wins!\n"
     ]
    }
   ],
   "source": [
    "import math\n",
    "\n",
    "# Initialize the Tic-Tac-Toe board (a list of 9 empty spaces)\n",
    "board = [\" \" for _ in range(9)]\n",
    "\n",
    "# Function to print the Tic-Tac-Toe board in a readable format\n",
    "def print_board():\n",
    "    # This prints the board in a 3x3 grid format\n",
    "    for row in [board[i*3:(i+1)*3] for i in range(3)]:\n",
    "        print(\"| \" + \" | \".join(row) + \" |\")\n",
    "\n",
    "# Function to check if there's a winner or if it's a draw\n",
    "def check_winner(board):\n",
    "    # Winning combinations (rows, columns, diagonals)\n",
    "    win_combinations = [\n",
    "        [0, 1, 2], [3, 4, 5], [6, 7, 8], # rows\n",
    "        [0, 3, 6], [1, 4, 7], [2, 5, 8], # columns\n",
    "        [0, 4, 8], [2, 4, 6]             # diagonals\n",
    "    ]\n",
    "    \n",
    "    # Check all win combinations to see if a player has won\n",
    "    for combo in win_combinations:\n",
    "        if board[combo[0]] == board[combo[1]] == board[combo[2]] != \" \":\n",
    "            return board[combo[0]]  # Return 'X' or 'O' as the winner\n",
    "    \n",
    "    # If no winner, check if the game is a draw\n",
    "    return \" \" if \" \" in board else \"Draw\"  # \" \" means game is still ongoing\n",
    "\n",
    "# Minimax algorithm with alpha-beta pruning for optimal move calculation\n",
    "def minimax(board, depth, is_maximizing, alpha, beta):\n",
    "    # Check the result of the current board (game over or still ongoing)\n",
    "    result = check_winner(board)\n",
    "    \n",
    "    # If the game is over, return the appropriate evaluation value\n",
    "    if result == \"X\":  # Player wins\n",
    "        return -1\n",
    "    elif result == \"O\":  # Computer wins\n",
    "        return 1\n",
    "    elif result == \"Draw\":\n",
    "        return 0  # It's a draw\n",
    "    \n",
    "    # Maximizing player's turn (computer's move)\n",
    "    if is_maximizing:\n",
    "        max_eval = -math.inf  # Start with the worst possible score for the maximizing player\n",
    "        # Try all possible moves for the computer\n",
    "        for i in range(9):\n",
    "            if board[i] == \" \":  # Only consider empty spaces\n",
    "                board[i] = \"O\"  # Simulate the computer's move\n",
    "                eval = minimax(board, depth + 1, False, alpha, beta)  # Recursively evaluate\n",
    "                board[i] = \" \"  # Undo the move after evaluation\n",
    "                max_eval = max(max_eval, eval)  # Update max_eval with the best evaluation\n",
    "                alpha = max(alpha, eval)  # Update alpha (best value for the maximizing player)\n",
    "                if beta <= alpha:  # Prune the search if beta is less than or equal to alpha\n",
    "                    break  # No need to explore further\n",
    "        return max_eval  # Return the best evaluation for the maximizing player\n",
    "    \n",
    "    # Minimizing player's turn (player's move)\n",
    "    else:\n",
    "        min_eval = math.inf  # Start with the best possible score for the minimizing player\n",
    "        # Try all possible moves for the player\n",
    "        for i in range(9):\n",
    "            if board[i] == \" \":  # Only consider empty spaces\n",
    "                board[i] = \"X\"  # Simulate the player's move\n",
    "                eval = minimax(board, depth + 1, True, alpha, beta)  # Recursively evaluate\n",
    "                board[i] = \" \"  # Undo the move after evaluation\n",
    "                min_eval = min(min_eval, eval)  # Update min_eval with the best evaluation\n",
    "                beta = min(beta, eval)  # Update beta (best value for the minimizing player)\n",
    "                if beta <= alpha:  # Prune the search if beta is less than or equal to alpha\n",
    "                    break  # No need to explore further\n",
    "        return min_eval  # Return the best evaluation for the minimizing player\n",
    "\n",
    "# Function to find the best move for the computer by using minimax\n",
    "def best_move():\n",
    "    best_value = -math.inf  # Start with the worst possible score for the computer\n",
    "    move = -1  # Variable to store the best move index\n",
    "    \n",
    "    # Try all possible moves and choose the one with the highest value\n",
    "    for i in range(9):\n",
    "        if board[i] == \" \":  # Only consider empty spaces\n",
    "            board[i] = \"O\"  # Simulate the computer's move\n",
    "            move_value = minimax(board, 0, False, -math.inf, math.inf)  # Get the evaluation value\n",
    "            board[i] = \" \"  # Undo the move after evaluation\n",
    "            if move_value > best_value:  # If the current move is better, update best move\n",
    "                best_value = move_value\n",
    "                move = i  # Update the best move index\n",
    "    return move  # Return the index of the best move for the computer\n",
    "\n",
    "# Main game loop\n",
    "def play_game():\n",
    "    print(\"Welcome to Tic-Tac-Toe!\")\n",
    "    print_board()  # Print the initial board\n",
    "\n",
    "    while True:\n",
    "        # Player's turn\n",
    "        player_move = int(input(\"Enter your move (1-9): \")) - 1  # Get player's move as an index\n",
    "        if board[player_move] != \" \":  # Check if the move is valid\n",
    "            print(\"Invalid move! Try again.\")\n",
    "            continue  # Ask for input again if the move is invalid\n",
    "        board[player_move] = \"X\"  # Mark the player's move on the board\n",
    "\n",
    "        print_board()  # Print the board after the player's move\n",
    "        if check_winner(board) != \" \":  # Check if there's a winner or draw\n",
    "            break  # End the game if there's a winner or draw\n",
    "\n",
    "        # Computer's turn\n",
    "        print(\"Computer's turn...\")\n",
    "        computer_move = best_move()  # Find the best move for the computer\n",
    "        board[computer_move] = \"O\"  # Mark the computer's move on the board\n",
    "        print_board()  # Print the board after the computer's move\n",
    "        if check_winner(board) != \" \":  # Check if there's a winner or draw\n",
    "            break  # End the game if there's a winner or draw\n",
    "\n",
    "    # Determine the result of the game and print the appropriate message\n",
    "    result = check_winner(board)\n",
    "    if result == \"X\":\n",
    "        print(\"Congratulations! You win!\")\n",
    "    elif result == \"O\":\n",
    "        print(\"Computer wins!\")\n",
    "    else:\n",
    "        print(\"It's a draw!\")\n",
    "\n",
    "# Start the game\n",
    "play_game()\n"
   ]
  },
  {
   "cell_type": "markdown",
   "id": "62b177be-8067-4798-a0db-66cc34dc8011",
   "metadata": {},
   "source": [
    "# Task solution"
   ]
  },
  {
   "cell_type": "code",
   "execution_count": 12,
   "id": "f5e1d00e-7d96-42aa-9e93-f49f350c222e",
   "metadata": {},
   "outputs": [
    {
     "name": "stdout",
     "output_type": "stream",
     "text": [
      "Welcome to Connect Four!\n",
      "|   |   |   |   |   |   |   |\n",
      "|   |   |   |   |   |   |   |\n",
      "|   |   |   |   |   |   |   |\n",
      "|   |   |   |   |   |   |   |\n",
      "|   |   |   |   |   |   |   |\n",
      "|   |   |   |   |   |   |   |\n",
      "-----------------------------\n"
     ]
    },
    {
     "name": "stdin",
     "output_type": "stream",
     "text": [
      "Enter your move (1-7):  7\n"
     ]
    },
    {
     "name": "stdout",
     "output_type": "stream",
     "text": [
      "|   |   |   |   |   |   |   |\n",
      "|   |   |   |   |   |   |   |\n",
      "|   |   |   |   |   |   |   |\n",
      "|   |   |   |   |   |   |   |\n",
      "|   |   |   |   |   |   |   |\n",
      "|   |   |   |   |   |   | X |\n",
      "-----------------------------\n",
      "AI is thinking...\n",
      "|   |   |   |   |   |   |   |\n",
      "|   |   |   |   |   |   |   |\n",
      "|   |   |   |   |   |   |   |\n",
      "|   |   |   |   |   |   |   |\n",
      "|   |   |   |   |   |   |   |\n",
      "| O |   |   |   |   |   | X |\n",
      "-----------------------------\n"
     ]
    },
    {
     "name": "stdin",
     "output_type": "stream",
     "text": [
      "Enter your move (1-7):  6\n"
     ]
    },
    {
     "name": "stdout",
     "output_type": "stream",
     "text": [
      "|   |   |   |   |   |   |   |\n",
      "|   |   |   |   |   |   |   |\n",
      "|   |   |   |   |   |   |   |\n",
      "|   |   |   |   |   |   |   |\n",
      "|   |   |   |   |   |   |   |\n",
      "| O |   |   |   |   | X | X |\n",
      "-----------------------------\n",
      "AI is thinking...\n",
      "|   |   |   |   |   |   |   |\n",
      "|   |   |   |   |   |   |   |\n",
      "|   |   |   |   |   |   |   |\n",
      "|   |   |   |   |   |   |   |\n",
      "| O |   |   |   |   |   |   |\n",
      "| O |   |   |   |   | X | X |\n",
      "-----------------------------\n"
     ]
    },
    {
     "name": "stdin",
     "output_type": "stream",
     "text": [
      "Enter your move (1-7):  5\n"
     ]
    },
    {
     "name": "stdout",
     "output_type": "stream",
     "text": [
      "|   |   |   |   |   |   |   |\n",
      "|   |   |   |   |   |   |   |\n",
      "|   |   |   |   |   |   |   |\n",
      "|   |   |   |   |   |   |   |\n",
      "| O |   |   |   |   |   |   |\n",
      "| O |   |   |   | X | X | X |\n",
      "-----------------------------\n",
      "AI is thinking...\n",
      "|   |   |   |   |   |   |   |\n",
      "|   |   |   |   |   |   |   |\n",
      "|   |   |   |   |   |   |   |\n",
      "|   |   |   |   |   |   |   |\n",
      "| O |   |   |   |   |   |   |\n",
      "| O |   |   | O | X | X | X |\n",
      "-----------------------------\n"
     ]
    },
    {
     "name": "stdin",
     "output_type": "stream",
     "text": [
      "Enter your move (1-7):  4\n"
     ]
    },
    {
     "name": "stdout",
     "output_type": "stream",
     "text": [
      "|   |   |   |   |   |   |   |\n",
      "|   |   |   |   |   |   |   |\n",
      "|   |   |   |   |   |   |   |\n",
      "|   |   |   |   |   |   |   |\n",
      "| O |   |   | X |   |   |   |\n",
      "| O |   |   | O | X | X | X |\n",
      "-----------------------------\n",
      "AI is thinking...\n",
      "|   |   |   |   |   |   |   |\n",
      "|   |   |   |   |   |   |   |\n",
      "|   |   |   |   |   |   |   |\n",
      "| O |   |   |   |   |   |   |\n",
      "| O |   |   | X |   |   |   |\n",
      "| O |   |   | O | X | X | X |\n",
      "-----------------------------\n"
     ]
    },
    {
     "name": "stdin",
     "output_type": "stream",
     "text": [
      "Enter your move (1-7):  4\n"
     ]
    },
    {
     "name": "stdout",
     "output_type": "stream",
     "text": [
      "|   |   |   |   |   |   |   |\n",
      "|   |   |   |   |   |   |   |\n",
      "|   |   |   |   |   |   |   |\n",
      "| O |   |   | X |   |   |   |\n",
      "| O |   |   | X |   |   |   |\n",
      "| O |   |   | O | X | X | X |\n",
      "-----------------------------\n",
      "AI is thinking...\n",
      "|   |   |   |   |   |   |   |\n",
      "|   |   |   |   |   |   |   |\n",
      "| O |   |   |   |   |   |   |\n",
      "| O |   |   | X |   |   |   |\n",
      "| O |   |   | X |   |   |   |\n",
      "| O |   |   | O | X | X | X |\n",
      "-----------------------------\n",
      "AI wins!\n"
     ]
    }
   ],
   "source": [
    "import math\n",
    "\n",
    "# Define the board dimensions\n",
    "ROWS = 6\n",
    "COLS = 7\n",
    "\n",
    "# Initialize the board\n",
    "def create_board():\n",
    "    return [[\" \" for _ in range(COLS)] for _ in range(ROWS)]\n",
    "\n",
    "# Print the board in a readable format\n",
    "def print_board(board):\n",
    "    for row in board:\n",
    "        print(\"| \" + \" | \".join(row) + \" |\")\n",
    "    print(\"-\" * 29)\n",
    "\n",
    "# Check if a move is valid (column has an empty space)\n",
    "def valid_move(board, col):\n",
    "    return board[0][col] == \" \"\n",
    "\n",
    "# Drop a piece in a column and return the row index\n",
    "def drop_piece(board, col, piece):\n",
    "    for row in range(ROWS-1, -1, -1):\n",
    "        if board[row][col] == \" \":\n",
    "            board[row][col] = piece\n",
    "            return row\n",
    "    return -1\n",
    "\n",
    "# Check for a win condition (4 pieces in a row, column, or diagonal)\n",
    "def check_winner(board, piece):\n",
    "    # Check horizontal, vertical, and diagonal (both directions)\n",
    "    for row in range(ROWS):\n",
    "        for col in range(COLS):\n",
    "            if board[row][col] == piece:\n",
    "                # Horizontal check\n",
    "                if col + 3 < COLS and all(board[row][col+i] == piece for i in range(4)):\n",
    "                    return True\n",
    "                # Vertical check\n",
    "                if row + 3 < ROWS and all(board[row+i][col] == piece for i in range(4)):\n",
    "                    return True\n",
    "                # Diagonal (bottom-left to top-right) check\n",
    "                if row + 3 < ROWS and col + 3 < COLS and all(board[row+i][col+i] == piece for i in range(4)):\n",
    "                    return True\n",
    "                # Diagonal (top-left to bottom-right) check\n",
    "                if row - 3 >= 0 and col + 3 < COLS and all(board[row-i][col+i] == piece for i in range(4)):\n",
    "                    return True\n",
    "    return False\n",
    "\n",
    "# Minimax algorithm with alpha-beta pruning\n",
    "def minimax(board, depth, is_maximizing, alpha, beta, piece, opponent_piece):\n",
    "    valid_moves = [col for col in range(COLS) if valid_move(board, col)]\n",
    "    \n",
    "    # Check for terminal state (win, draw, or max depth reached)\n",
    "    if check_winner(board, piece):\n",
    "        return 1000000000  # AI wins\n",
    "    elif check_winner(board, opponent_piece):\n",
    "        return -1000000000  # Opponent wins\n",
    "    elif len(valid_moves) == 0 or depth == 0:\n",
    "        return 0  # Draw or max depth\n",
    "    \n",
    "    if is_maximizing:\n",
    "        max_eval = -math.inf\n",
    "        for col in valid_moves:\n",
    "            new_board = [row[:] for row in board]\n",
    "            drop_piece(new_board, col, piece)\n",
    "            eval = minimax(new_board, depth - 1, False, alpha, beta, piece, opponent_piece)\n",
    "            max_eval = max(max_eval, eval)\n",
    "            alpha = max(alpha, eval)\n",
    "            if beta <= alpha:\n",
    "                break\n",
    "        return max_eval\n",
    "    else:\n",
    "        min_eval = math.inf\n",
    "        for col in valid_moves:\n",
    "            new_board = [row[:] for row in board]\n",
    "            drop_piece(new_board, col, opponent_piece)\n",
    "            eval = minimax(new_board, depth - 1, True, alpha, beta, piece, opponent_piece)\n",
    "            min_eval = min(min_eval, eval)\n",
    "            beta = min(beta, eval)\n",
    "            if beta <= alpha:\n",
    "                break\n",
    "        return min_eval\n",
    "\n",
    "# Function to determine the best move for the AI\n",
    "def best_move(board, piece, opponent_piece):\n",
    "    best_score = -math.inf\n",
    "    best_col = -1\n",
    "    for col in range(COLS):\n",
    "        if valid_move(board, col):\n",
    "            new_board = [row[:] for row in board]\n",
    "            drop_piece(new_board, col, piece)\n",
    "            score = minimax(new_board, 5, False, -math.inf, math.inf, piece, opponent_piece)  # Max depth = 5\n",
    "            if score > best_score:\n",
    "                best_score = score\n",
    "                best_col = col\n",
    "    return best_col\n",
    "\n",
    "# Function to play the game\n",
    "def play_game():\n",
    "    board = create_board()\n",
    "    player_piece = \"X\"\n",
    "    ai_piece = \"O\"\n",
    "    current_player = player_piece\n",
    "    print(\"Welcome to Connect Four!\")\n",
    "    print_board(board)\n",
    "\n",
    "    while True:\n",
    "        if current_player == player_piece:\n",
    "            # Player's move\n",
    "            player_col = int(input(\"Enter your move (1-7): \")) - 1\n",
    "            if not valid_move(board, player_col):\n",
    "                print(\"Invalid move! Try again.\")\n",
    "                continue\n",
    "            drop_piece(board, player_col, player_piece)\n",
    "            print_board(board)\n",
    "            if check_winner(board, player_piece):\n",
    "                print(\"Congratulations, you win!\")\n",
    "                break\n",
    "            current_player = ai_piece\n",
    "        else:\n",
    "            # AI's move\n",
    "            print(\"AI is thinking...\")\n",
    "            ai_col = best_move(board, ai_piece, player_piece)\n",
    "            drop_piece(board, ai_col, ai_piece)\n",
    "            print_board(board)\n",
    "            if check_winner(board, ai_piece):\n",
    "                print(\"AI wins!\")\n",
    "                break\n",
    "            current_player = player_piece\n",
    "\n",
    "        # Check for draw\n",
    "        if all(board[0][col] != \" \" for col in range(COLS)):\n",
    "            print(\"It's a draw!\")\n",
    "            break\n",
    "\n",
    "# Start the game\n",
    "play_game()\n"
   ]
  },
  {
   "cell_type": "code",
   "execution_count": null,
   "id": "0ecb3cf2-e869-4978-b955-9cc81201fb01",
   "metadata": {},
   "outputs": [],
   "source": []
  },
  {
   "cell_type": "code",
   "execution_count": null,
   "id": "b6b343b8-6d5c-4e64-827d-026e5088de6d",
   "metadata": {},
   "outputs": [],
   "source": []
  },
  {
   "cell_type": "code",
   "execution_count": null,
   "id": "c3a9f547-d6c7-461c-8cf5-809895f7aae7",
   "metadata": {},
   "outputs": [],
   "source": []
  }
 ],
 "metadata": {
  "kernelspec": {
   "display_name": "Python 3 (ipykernel)",
   "language": "python",
   "name": "python3"
  },
  "language_info": {
   "codemirror_mode": {
    "name": "ipython",
    "version": 3
   },
   "file_extension": ".py",
   "mimetype": "text/x-python",
   "name": "python",
   "nbconvert_exporter": "python",
   "pygments_lexer": "ipython3",
   "version": "3.11.7"
  }
 },
 "nbformat": 4,
 "nbformat_minor": 5
}
