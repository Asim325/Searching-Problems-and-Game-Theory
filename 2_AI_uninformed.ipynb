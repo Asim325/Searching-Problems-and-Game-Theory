{
 "cells": [
  {
   "cell_type": "markdown",
   "metadata": {},
   "source": [
    "## Second Part"
   ]
  },
  {
   "cell_type": "code",
   "execution_count": 27,
   "metadata": {},
   "outputs": [],
   "source": [
    "class Node: \n",
    "    def __init__(self, v):\n",
    "        self.val = v\n",
    "        self.left = None\n",
    "        self.right = None\n",
    "        \n",
    "        \n",
    "o = Node(2)"
   ]
  },
  {
   "cell_type": "code",
   "execution_count": 28,
   "metadata": {},
   "outputs": [
    {
     "data": {
      "text/plain": [
       "2"
      ]
     },
     "execution_count": 28,
     "metadata": {},
     "output_type": "execute_result"
    }
   ],
   "source": [
    "o.val"
   ]
  },
  {
   "cell_type": "code",
   "execution_count": 29,
   "metadata": {},
   "outputs": [
    {
     "name": "stdout",
     "output_type": "stream",
     "text": [
      "None\n"
     ]
    }
   ],
   "source": [
    "print(o.left)"
   ]
  },
  {
   "cell_type": "code",
   "execution_count": 30,
   "metadata": {},
   "outputs": [
    {
     "name": "stdout",
     "output_type": "stream",
     "text": [
      "None\n"
     ]
    }
   ],
   "source": [
    "print(o.right)"
   ]
  },
  {
   "cell_type": "code",
   "execution_count": 31,
   "metadata": {},
   "outputs": [
    {
     "name": "stdout",
     "output_type": "stream",
     "text": [
      "None\n"
     ]
    }
   ],
   "source": [
    "root = Node(10)\n",
    "print(root.left)"
   ]
  },
  {
   "cell_type": "code",
   "execution_count": 32,
   "metadata": {},
   "outputs": [],
   "source": [
    "def insert( root, node):\n",
    "    \n",
    "    if root is None:\n",
    "        return node\n",
    "    \n",
    "    if root.val > node.val:\n",
    "        root.left = insert(root.left,node)\n",
    "\n",
    "    elif root.val < node.val:\n",
    "        root.right = insert(root.right,node)\n",
    "\n",
    "    return root"
   ]
  },
  {
   "cell_type": "code",
   "execution_count": null,
   "metadata": {},
   "outputs": [],
   "source": []
  },
  {
   "cell_type": "code",
   "execution_count": 33,
   "metadata": {},
   "outputs": [],
   "source": [
    "class Node:\n",
    "    \n",
    "    def __init__(self, v):\n",
    "        self.val = v\n",
    "        self.left = None\n",
    "        self.right = None\n",
    "        \n",
    "def insert( root, node):\n",
    "    \n",
    "    if root is None:\n",
    "        return node\n",
    "    \n",
    "    if root.val > node.val:\n",
    "        root.left = insert(root.left,node)\n",
    "\n",
    "    elif root.val < node.val:\n",
    "        root.right = insert(root.right,node)\n",
    "\n",
    "    return root\n",
    "\n",
    "def inOrder(root):\n",
    "\n",
    "    if not root:\n",
    "        return None\n",
    "    else:\n",
    "        inOrder(root.left)\n",
    "        print(root.val)\n",
    "        inOrder(root.right)"
   ]
  },
  {
   "cell_type": "code",
   "execution_count": 34,
   "metadata": {},
   "outputs": [
    {
     "name": "stdout",
     "output_type": "stream",
     "text": [
      "3\n",
      "5\n",
      "7\n",
      "10\n",
      "15\n"
     ]
    }
   ],
   "source": [
    "root = Node(10)\n",
    "\n",
    "insert(root,Node(5))\n",
    "insert(root,Node(3))\n",
    "insert(root,Node(15))\n",
    "insert(root,Node(7))\n",
    "\n",
    "inOrder(root)"
   ]
  },
  {
   "cell_type": "code",
   "execution_count": 35,
   "metadata": {},
   "outputs": [
    {
     "name": "stdout",
     "output_type": "stream",
     "text": [
      "1\n",
      "3\n",
      "4\n",
      "5\n",
      "6\n",
      "7\n",
      "8\n",
      "10\n",
      "11\n",
      "12\n",
      "13\n",
      "15\n",
      "18\n",
      "20\n",
      "21\n"
     ]
    }
   ],
   "source": [
    "num =  [10,5,3,7,1,4,6,8,15,12,20,11,13,18,21]\n",
    "\n",
    "root = Node(num[0])\n",
    "\n",
    "for i in num[1:]:\n",
    "    insert(root,Node(i))\n",
    "    \n",
    "inOrder(root)"
   ]
  },
  {
   "cell_type": "code",
   "execution_count": 36,
   "metadata": {},
   "outputs": [
    {
     "data": {
      "text/plain": [
       "'ali is boy and what are you doing'"
      ]
     },
     "execution_count": 36,
     "metadata": {},
     "output_type": "execute_result"
    }
   ],
   "source": [
    "st = 'ali is boy and what are you doing'\n",
    "st"
   ]
  },
  {
   "cell_type": "code",
   "execution_count": null,
   "metadata": {},
   "outputs": [],
   "source": []
  },
  {
   "cell_type": "code",
   "execution_count": 37,
   "metadata": {},
   "outputs": [
    {
     "data": {
      "text/plain": [
       "['ali', 'is', 'boy', 'and', 'what', 'are', 'you', 'doing']"
      ]
     },
     "execution_count": 37,
     "metadata": {},
     "output_type": "execute_result"
    }
   ],
   "source": [
    "ab = st.split(' ')\n",
    "ab"
   ]
  },
  {
   "cell_type": "code",
   "execution_count": 38,
   "metadata": {},
   "outputs": [
    {
     "data": {
      "text/plain": [
       "[3, 2, 3, 3, 4, 3, 3, 5]"
      ]
     },
     "execution_count": 38,
     "metadata": {},
     "output_type": "execute_result"
    }
   ],
   "source": [
    "li = []\n",
    "for i in ab:\n",
    "    li.append(len(i))\n",
    "li"
   ]
  },
  {
   "cell_type": "code",
   "execution_count": 39,
   "metadata": {},
   "outputs": [
    {
     "data": {
      "text/plain": [
       "[2, 3, 4, 5]"
      ]
     },
     "execution_count": 39,
     "metadata": {},
     "output_type": "execute_result"
    }
   ],
   "source": [
    "list(set(li))"
   ]
  },
  {
   "cell_type": "code",
   "execution_count": 40,
   "metadata": {},
   "outputs": [],
   "source": [
    "stt = 'ali is boy and what are you doing'.split(' ')"
   ]
  },
  {
   "cell_type": "code",
   "execution_count": 41,
   "metadata": {},
   "outputs": [
    {
     "data": {
      "text/plain": [
       "[3, 2, 3, 3, 4, 3, 3, 5]"
      ]
     },
     "execution_count": 41,
     "metadata": {},
     "output_type": "execute_result"
    }
   ],
   "source": [
    "abb = [ len(i) for i in stt]\n",
    "abb"
   ]
  },
  {
   "cell_type": "code",
   "execution_count": null,
   "metadata": {},
   "outputs": [],
   "source": []
  },
  {
   "cell_type": "markdown",
   "metadata": {},
   "source": [
    "## third part second lab 3:00"
   ]
  },
  {
   "cell_type": "code",
   "execution_count": null,
   "metadata": {},
   "outputs": [],
   "source": []
  },
  {
   "cell_type": "code",
   "execution_count": 42,
   "metadata": {},
   "outputs": [
    {
     "name": "stdout",
     "output_type": "stream",
     "text": [
      "Goal:  [10, 5, 15, 3, 7]\n"
     ]
    }
   ],
   "source": [
    "goal = 7\n",
    "explored = []\n",
    "queue = []\n",
    "\n",
    "queue.append(root)\n",
    "\n",
    "while len(queue) > 0:\n",
    "\n",
    "    node = queue.pop(0)\n",
    "    \n",
    "    \n",
    "    #print(node.val)\n",
    "    explored.append(node.val)\n",
    "    if node.val == goal:\n",
    "        print('Goal: ',explored)\n",
    "        break\n",
    "    \n",
    "\n",
    "    if node.left is not None:\n",
    "        queue.append(node.left)\n",
    "\n",
    "    if node.right is not None:\n",
    "        queue.append(node.right)\n"
   ]
  },
  {
   "cell_type": "code",
   "execution_count": 43,
   "metadata": {},
   "outputs": [
    {
     "name": "stdout",
     "output_type": "stream",
     "text": [
      "[10]\n",
      "********************\n",
      "POP:  10\n",
      "left:  5\n",
      "right:  15\n",
      "********************\n",
      "[5, 15]\n",
      "********************\n",
      "POP:  5\n",
      "left:  3\n",
      "right:  7\n",
      "********************\n",
      "[15, 3, 7]\n",
      "********************\n",
      "POP:  15\n",
      "left:  12\n",
      "right:  20\n",
      "********************\n",
      "[3, 7, 12, 20]\n",
      "********************\n",
      "POP:  3\n",
      "left:  1\n",
      "right:  4\n",
      "********************\n",
      "[7, 12, 20, 1, 4]\n",
      "********************\n",
      "POP:  7\n",
      "left:  6\n",
      "right:  8\n",
      "********************\n",
      "Goal:  [10, 5, 15, 3, 7]\n"
     ]
    }
   ],
   "source": [
    "def BFS(goal):\n",
    "    \n",
    "    explored = []\n",
    "    queue = []\n",
    "    queue.append(root)\n",
    "\n",
    "    while len(queue) > 0:\n",
    "        \n",
    "        \n",
    "        #----------------extra task-------------------\n",
    "        \n",
    "        x =  [nod.val for nod in queue]\n",
    "        print(x)\n",
    "        #------------------------------------\n",
    "\n",
    "        node = queue.pop(0)\n",
    "        \n",
    "        #--------------extra task---------------------\n",
    "        print(20*'*')\n",
    "        print('POP: ',node.val)\n",
    "        print('left: ',node.left.val)\n",
    "        print('right: ',node.right.val)\n",
    "        print(20*'*')\n",
    "        #------------------------------------\n",
    "        \n",
    "        explored.append(node.val)\n",
    "        if node.val == goal:\n",
    "            print('Goal: ',explored)\n",
    "            break\n",
    "\n",
    "\n",
    "        if node.left is not None:\n",
    "            queue.append(node.left)\n",
    "\n",
    "        if node.right is not None:\n",
    "            queue.append(node.right)\n",
    "        \n",
    "        \n",
    "            \n",
    "BFS(7)"
   ]
  },
  {
   "cell_type": "code",
   "execution_count": 44,
   "metadata": {},
   "outputs": [
    {
     "name": "stdout",
     "output_type": "stream",
     "text": [
      "Goal:  [10, 5, 15, 3, 7]\n"
     ]
    }
   ],
   "source": [
    "#BFS\n",
    "def BFS(goal):\n",
    "    \n",
    "    explored = []\n",
    "    queue = []\n",
    "    queue.append(root)\n",
    "    while len(queue) > 0:\n",
    "\n",
    "        node = queue.pop(0)\n",
    "\n",
    "        explored.append(node.val)\n",
    "        \n",
    "        \n",
    "        if node.val == goal:\n",
    "            print('Goal: ',explored)\n",
    "            break\n",
    "\n",
    "        if node.left is not None:\n",
    "            queue.append(node.left)\n",
    "\n",
    "        if node.right is not None:\n",
    "            queue.append(node.right)\n",
    "        \n",
    "     \n",
    "            \n",
    "BFS(7)"
   ]
  },
  {
   "cell_type": "code",
   "execution_count": null,
   "metadata": {},
   "outputs": [],
   "source": []
  },
  {
   "cell_type": "code",
   "execution_count": null,
   "metadata": {},
   "outputs": [],
   "source": []
  },
  {
   "cell_type": "code",
   "execution_count": 45,
   "metadata": {},
   "outputs": [
    {
     "name": "stdout",
     "output_type": "stream",
     "text": [
      "[9, 6, 2, 0, 1, 5]\n"
     ]
    },
    {
     "data": {
      "text/plain": [
       "9"
      ]
     },
     "execution_count": 45,
     "metadata": {},
     "output_type": "execute_result"
    }
   ],
   "source": [
    "lis = [9,6,2,0,1,5]\n",
    "print(lis)\n",
    "lis.pop(0)"
   ]
  },
  {
   "cell_type": "code",
   "execution_count": null,
   "metadata": {},
   "outputs": [],
   "source": []
  },
  {
   "cell_type": "code",
   "execution_count": 46,
   "metadata": {},
   "outputs": [
    {
     "name": "stdout",
     "output_type": "stream",
     "text": [
      "Goal:  [10, 5, 3, 1, 4, 7]\n"
     ]
    }
   ],
   "source": [
    "#DFS\n",
    "def DFS(goal):\n",
    "    \n",
    "    explored = []\n",
    "    s = []\n",
    "    s.append(root)\n",
    "    \n",
    "    while len(s) > 0:\n",
    "\n",
    "        node = s.pop()\n",
    "        \n",
    "        \n",
    "        explored.append(node.val)\n",
    "            \n",
    "        if node.val == goal:\n",
    "            print('Goal: ',explored)\n",
    "            break\n",
    "\n",
    "        if node.right is not None:\n",
    "            s.append(node.right)\n",
    "            \n",
    "        if node.left is not None:\n",
    "            s.append(node.left)\n",
    "\n",
    "        \n",
    "        \n",
    "     \n",
    "            \n",
    "DFS(7)\n"
   ]
  },
  {
   "cell_type": "code",
   "execution_count": 47,
   "metadata": {},
   "outputs": [],
   "source": [
    "import random"
   ]
  },
  {
   "cell_type": "code",
   "execution_count": 48,
   "metadata": {},
   "outputs": [
    {
     "data": {
      "text/plain": [
       "[10, 20, 30000, 3000000, 32424242]"
      ]
     },
     "execution_count": 48,
     "metadata": {},
     "output_type": "execute_result"
    }
   ],
   "source": [
    "[10,20,30000,3000000,32424242]"
   ]
  },
  {
   "cell_type": "code",
   "execution_count": 49,
   "metadata": {},
   "outputs": [
    {
     "data": {
      "text/plain": [
       "197"
      ]
     },
     "execution_count": 49,
     "metadata": {},
     "output_type": "execute_result"
    }
   ],
   "source": [
    "random.randint(1,98764)"
   ]
  },
  {
   "cell_type": "code",
   "execution_count": 50,
   "metadata": {},
   "outputs": [
    {
     "data": {
      "text/plain": [
       "[8810, 24521, 17025, 44249, 29361]"
      ]
     },
     "execution_count": 50,
     "metadata": {},
     "output_type": "execute_result"
    }
   ],
   "source": [
    "li = []\n",
    "for i in range(5):\n",
    "    a = random.randint(1,44444)\n",
    "    li.append(a)\n",
    "li"
   ]
  },
  {
   "cell_type": "code",
   "execution_count": 51,
   "metadata": {},
   "outputs": [
    {
     "data": {
      "text/plain": [
       "[2, 3, 8, 1, 7, 2, 1, 5, 4, 9]"
      ]
     },
     "execution_count": 51,
     "metadata": {},
     "output_type": "execute_result"
    }
   ],
   "source": [
    "li = [random.randint(1,9) for i in range(10)]\n",
    "li"
   ]
  },
  {
   "cell_type": "code",
   "execution_count": 52,
   "metadata": {},
   "outputs": [
    {
     "data": {
      "text/plain": [
       "[1, 2, 3, 4, 5, 7, 8, 9]"
      ]
     },
     "execution_count": 52,
     "metadata": {},
     "output_type": "execute_result"
    }
   ],
   "source": [
    "list(set(li))"
   ]
  },
  {
   "cell_type": "code",
   "execution_count": 53,
   "metadata": {},
   "outputs": [
    {
     "data": {
      "text/plain": [
       "2"
      ]
     },
     "execution_count": 53,
     "metadata": {},
     "output_type": "execute_result"
    }
   ],
   "source": [
    "len(li) - len(list(set(li)))  # goal to find"
   ]
  },
  {
   "cell_type": "code",
   "execution_count": 54,
   "metadata": {},
   "outputs": [],
   "source": [
    "import time"
   ]
  },
  {
   "cell_type": "code",
   "execution_count": 55,
   "metadata": {},
   "outputs": [],
   "source": [
    "d = {\n",
    " 'A': ['B','C','D','H'], \n",
    " 'B': ['C','G'],\n",
    " 'C': ['G'],\n",
    " 'D': ['C','G'],\n",
    " 'H': ['I'],\n",
    " 'I': ['D','G'],\n",
    " 'G': []\n",
    "}"
   ]
  },
  {
   "cell_type": "code",
   "execution_count": 56,
   "metadata": {},
   "outputs": [
    {
     "data": {
      "text/plain": [
       "['B', 'C', 'D', 'H']"
      ]
     },
     "execution_count": 56,
     "metadata": {},
     "output_type": "execute_result"
    }
   ],
   "source": [
    "d.get('A')"
   ]
  },
  {
   "cell_type": "code",
   "execution_count": 57,
   "metadata": {},
   "outputs": [
    {
     "data": {
      "text/plain": [
       "['B', 'C', 'D', 'H']"
      ]
     },
     "execution_count": 57,
     "metadata": {},
     "output_type": "execute_result"
    }
   ],
   "source": [
    "d['A']"
   ]
  },
  {
   "cell_type": "code",
   "execution_count": 58,
   "metadata": {},
   "outputs": [
    {
     "data": {
      "text/plain": [
       "[9]"
      ]
     },
     "execution_count": 58,
     "metadata": {},
     "output_type": "execute_result"
    }
   ],
   "source": [
    "q = []\n",
    "c = [1,2]\n",
    "q.append(9)\n",
    "q"
   ]
  },
  {
   "cell_type": "code",
   "execution_count": 59,
   "metadata": {},
   "outputs": [],
   "source": [
    "q.append(c)"
   ]
  },
  {
   "cell_type": "code",
   "execution_count": 60,
   "metadata": {},
   "outputs": [
    {
     "data": {
      "text/plain": [
       "[9, [1, 2]]"
      ]
     },
     "execution_count": 60,
     "metadata": {},
     "output_type": "execute_result"
    }
   ],
   "source": [
    "q    #  use extend "
   ]
  },
  {
   "cell_type": "code",
   "execution_count": 61,
   "metadata": {},
   "outputs": [
    {
     "data": {
      "text/plain": [
       "[9, 1, 2]"
      ]
     },
     "execution_count": 61,
     "metadata": {},
     "output_type": "execute_result"
    }
   ],
   "source": [
    "[9,1,2]"
   ]
  },
  {
   "cell_type": "code",
   "execution_count": 62,
   "metadata": {},
   "outputs": [
    {
     "data": {
      "text/plain": [
       "['B-2', 'C-5', 'D-6']"
      ]
     },
     "execution_count": 62,
     "metadata": {},
     "output_type": "execute_result"
    }
   ],
   "source": [
    "a = 'B-2,C-5,D-6'.split(',')\n",
    "a"
   ]
  },
  {
   "cell_type": "code",
   "execution_count": 63,
   "metadata": {},
   "outputs": [
    {
     "data": {
      "text/plain": [
       "['B', '2']"
      ]
     },
     "execution_count": 63,
     "metadata": {},
     "output_type": "execute_result"
    }
   ],
   "source": [
    "a[0].split('-')"
   ]
  },
  {
   "cell_type": "code",
   "execution_count": 64,
   "metadata": {},
   "outputs": [
    {
     "name": "stdout",
     "output_type": "stream",
     "text": [
      "['A']\n",
      "POP:  A\n",
      "[]\n",
      "------------------------------------------------------------\n",
      "EXPLORED:  ['A']\n",
      "['B', 'C', 'D', 'H']\n",
      "Q: -->>  ['B', 'C', 'D', 'H']\n",
      "-----------------END iteration---------------\n",
      "['B', 'C', 'D', 'H']\n",
      "POP:  B\n",
      "['C', 'D', 'H']\n",
      "------------------------------------------------------------\n",
      "EXPLORED:  ['A', 'B']\n",
      "['C', 'G']\n",
      "Q: -->>  ['C', 'D', 'H', 'G']\n",
      "-----------------END iteration---------------\n",
      "['C', 'D', 'H', 'G']\n",
      "POP:  C\n",
      "['D', 'H', 'G']\n",
      "------------------------------------------------------------\n",
      "EXPLORED:  ['A', 'B', 'C']\n",
      "['G']\n",
      "Q: -->>  ['D', 'H', 'G']\n",
      "-----------------END iteration---------------\n",
      "['D', 'H', 'G']\n",
      "POP:  D\n",
      "['H', 'G']\n",
      "------------------------------------------------------------\n",
      "EXPLORED:  ['A', 'B', 'C', 'D']\n",
      "['C', 'G']\n",
      "Q: -->>  ['H', 'G']\n",
      "-----------------END iteration---------------\n",
      "['H', 'G']\n",
      "POP:  H\n",
      "['G']\n",
      "------------------------------------------------------------\n",
      "EXPLORED:  ['A', 'B', 'C', 'D', 'H']\n",
      "['I']\n",
      "Q: -->>  ['G', 'I']\n",
      "-----------------END iteration---------------\n",
      "['G', 'I']\n",
      "POP:  G\n",
      "['I']\n",
      "------------------------------------------------------------\n",
      "EXPLORED:  ['A', 'B', 'C', 'D', 'H', 'G']\n",
      "Result:  ['A', 'B', 'C', 'D', 'H', 'G']\n"
     ]
    }
   ],
   "source": [
    "goal = 'G'\n",
    "q = []\n",
    "q.append('A')\n",
    "explored = []\n",
    "\n",
    "while len(q)>0:\n",
    "\n",
    "    print(q)\n",
    "    node = q.pop(0)\n",
    "    print('POP: ',node)\n",
    "    print(q)\n",
    "    print(60*'-')\n",
    "    \n",
    "    if node not in explored:\n",
    "        explored.append(node)\n",
    "    print('EXPLORED: ',explored)\n",
    "    \n",
    "    if node == goal:\n",
    "        print('Result: ',explored)\n",
    "        break\n",
    "        \n",
    "    child = d.get(node)\n",
    "    print(child)\n",
    "    \n",
    "    for i in child:\n",
    "        if i not in q and i not in explored:\n",
    "            q.append(i)\n",
    "        \n",
    "    print('Q: -->> ',q)\n",
    "    print('-----------------END iteration---------------')\n",
    "        \n",
    "    "
   ]
  },
  {
   "cell_type": "code",
   "execution_count": null,
   "metadata": {},
   "outputs": [],
   "source": []
  },
  {
   "cell_type": "code",
   "execution_count": 65,
   "metadata": {},
   "outputs": [
    {
     "name": "stdout",
     "output_type": "stream",
     "text": [
      "['A']\n",
      "POP:  A\n",
      "[]\n",
      "['B', 'C', 'D', 'H']\n",
      "['B', 'C', 'D', 'H']\n",
      "POP:  B\n",
      "['C', 'D', 'H']\n",
      "['C', 'G']\n",
      "['C', 'D', 'H', 'G']\n",
      "POP:  C\n",
      "['D', 'H', 'G']\n",
      "['G']\n",
      "['D', 'H', 'G']\n",
      "POP:  D\n",
      "['H', 'G']\n",
      "['C', 'G']\n",
      "['H', 'G']\n",
      "POP:  H\n",
      "['G']\n",
      "['I']\n",
      "['G', 'I']\n",
      "POP:  G\n",
      "['I']\n"
     ]
    },
    {
     "data": {
      "text/plain": [
       "['A', 'B', 'C', 'D', 'H', 'G']"
      ]
     },
     "execution_count": 65,
     "metadata": {},
     "output_type": "execute_result"
    }
   ],
   "source": [
    "\n",
    "\n",
    "def BFS(d,goal):\n",
    "    q = []\n",
    "    q.append('A')\n",
    "    explored = []\n",
    "\n",
    "    while len(q)>0:\n",
    "\n",
    "        print(q)\n",
    "        node = q.pop(0)\n",
    "\n",
    "        print('POP: ',node)\n",
    "\n",
    "        print(q)\n",
    "\n",
    "        if node not in explored:\n",
    "            explored.append(node)\n",
    "\n",
    "        if node == goal:\n",
    "             return explored\n",
    "\n",
    "        child = d.get(node)\n",
    "        print(child)\n",
    "\n",
    "        for i in child:\n",
    "            if i not in explored and i not in q:\n",
    "                #print(i)\n",
    "                q.append(i)\n",
    "\n",
    "BFS(d,'G')\n",
    "\n",
    "\n",
    "\n",
    "\n"
   ]
  },
  {
   "cell_type": "code",
   "execution_count": 66,
   "metadata": {},
   "outputs": [
    {
     "data": {
      "text/plain": [
       "['A', 'B', 'C', 'D', 'H', 'G']"
      ]
     },
     "execution_count": 66,
     "metadata": {},
     "output_type": "execute_result"
    }
   ],
   "source": [
    "def BFS(d,goal):\n",
    "    \n",
    "    q = []\n",
    "    q.append('A')\n",
    "    explored = []\n",
    "    \n",
    "    while len(q)>0:\n",
    "        \n",
    "        #print(q)\n",
    "        node = q.pop(0)\n",
    "        \n",
    "        #print(q)\n",
    "        \n",
    "        #print('-------------------------')\n",
    "        \n",
    "        if node not in explored:\n",
    "            explored.append(node)\n",
    "        \n",
    "        if node == goal:\n",
    "            return explored\n",
    "            \n",
    "        #print(node)\n",
    "        \n",
    "        child = d.get(node)\n",
    "        \n",
    "        #q.append(child)   x\n",
    "        \n",
    "        for i in child:\n",
    "            \n",
    "            if i not in explored and i not in q:\n",
    "                \n",
    "                q.append(i)\n",
    "        \n",
    "\n",
    "\n",
    "    \n",
    "BFS(d,'G')"
   ]
  },
  {
   "cell_type": "code",
   "execution_count": 67,
   "metadata": {},
   "outputs": [
    {
     "data": {
      "text/plain": [
       "['A', 'H', 'I', 'G']"
      ]
     },
     "execution_count": 67,
     "metadata": {},
     "output_type": "execute_result"
    }
   ],
   "source": [
    "def DFS(d,goal):\n",
    "    \n",
    "    s = []\n",
    "    s.append('A')\n",
    "    explored = []\n",
    "    \n",
    "    while len(s)>0:\n",
    "        \n",
    "        #print(s)\n",
    "        node = s.pop() \n",
    "        \n",
    "        #print(q)\n",
    "        \n",
    "        #print('-------------------------')\n",
    "        \n",
    "        if node not in explored:\n",
    "            explored.append(node)\n",
    "        \n",
    "        if node == goal:\n",
    "            return explored\n",
    "            \n",
    "        #print(node)\n",
    "        \n",
    "        child = d.get(node)\n",
    "        \n",
    "        #q.append(child)   x\n",
    "        \n",
    "        for i in child:\n",
    "            \n",
    "            if i not in explored and i not in s:\n",
    "                \n",
    "                s.append(i)\n",
    "        \n",
    "\n",
    "\n",
    "    \n",
    "DFS(d,'G')"
   ]
  }
 ],
 "metadata": {
  "kernelspec": {
   "display_name": "Python 3 (ipykernel)",
   "language": "python",
   "name": "python3"
  },
  "language_info": {
   "codemirror_mode": {
    "name": "ipython",
    "version": 3
   },
   "file_extension": ".py",
   "mimetype": "text/x-python",
   "name": "python",
   "nbconvert_exporter": "python",
   "pygments_lexer": "ipython3",
   "version": "3.11.7"
  }
 },
 "nbformat": 4,
 "nbformat_minor": 4
}
